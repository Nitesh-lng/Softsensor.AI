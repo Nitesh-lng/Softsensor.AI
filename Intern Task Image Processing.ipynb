{
 "cells": [
  {
   "cell_type": "markdown",
   "id": "b3f7119a",
   "metadata": {},
   "source": [
    "# Gaussian blur:\n",
    "This filter blurs the image using a Gaussian kernel, which can be useful for smoothing out noise or details in the image."
   ]
  },
  {
   "cell_type": "code",
   "execution_count": 1,
   "id": "174ac95e",
   "metadata": {},
   "outputs": [],
   "source": [
    "import random\n",
    "import zipfile\n",
    "from PIL import Image"
   ]
  },
  {
   "cell_type": "markdown",
   "id": "0b122115",
   "metadata": {},
   "source": [
    "##open the zip folder using the zipfile library and extract the file names of all the images within it"
   ]
  },
  {
   "cell_type": "code",
   "execution_count": 3,
   "id": "863fda2f",
   "metadata": {},
   "outputs": [],
   "source": [
    "zip_folder = zipfile.ZipFile('/Users/nitesh/Desktop/Softsensor.AI Assignment/softsensor_aidsprojectassignment/X- ray image.zip', 'r')\n",
    "image_names = zip_folder.namelist()"
   ]
  },
  {
   "cell_type": "code",
   "execution_count": 4,
   "id": "afd779d2",
   "metadata": {},
   "outputs": [],
   "source": [
    "from PIL import Image, ImageFilter\n",
    "#fi=3\n",
    "def gaussian_blur(image_path, blur_radius):\n",
    "  image = Image.open(image_path)\n",
    "  image = image.filter(ImageFilter.GaussianBlur(radius=blur_radius))\n",
    "  return image"
   ]
  },
  {
   "cell_type": "markdown",
   "id": "0148633b",
   "metadata": {},
   "source": [
    "This above implementation will open the image file specified by image_path, apply a Gaussian blur with the specified blur_radius, and then return the resulting image. The show() function is used to display the image."
   ]
  },
  {
   "cell_type": "code",
   "execution_count": 5,
   "id": "69520163",
   "metadata": {},
   "outputs": [],
   "source": [
    "#Use the random library to select 10 random image names out of the 50 images:\n",
    "random_image_names = random.sample(image_names, 10)"
   ]
  },
  {
   "cell_type": "code",
   "execution_count": 6,
   "id": "9c38b35d",
   "metadata": {},
   "outputs": [],
   "source": [
    "#Open each of the 10 randomly selected images using the zipfile library and the file names and call the function:\n",
    "for image_name in random_image_names:\n",
    "    image = zip_folder.open(image_name)\n",
    "    gaussian_blur(image, 3).show()"
   ]
  },
  {
   "cell_type": "code",
   "execution_count": null,
   "id": "45d0438e",
   "metadata": {},
   "outputs": [],
   "source": []
  },
  {
   "cell_type": "code",
   "execution_count": null,
   "id": "b6f6b38b",
   "metadata": {},
   "outputs": [],
   "source": []
  },
  {
   "cell_type": "markdown",
   "id": "87e26da0",
   "metadata": {},
   "source": [
    "# Median blur:\n",
    "This filter blurs the image using the median of all the pixels in the kernel area, which can be useful for removing salt-and-pepper noise."
   ]
  },
  {
   "cell_type": "code",
   "execution_count": 7,
   "id": "760dd9a6",
   "metadata": {},
   "outputs": [],
   "source": [
    "zip_folders = zipfile.ZipFile('/Users/nitesh/Desktop/Softsensor.AI Assignment/softsensor_aidsprojectassignment/X- ray image.zip', 'r')\n",
    "image_names_m = zip_folders.namelist()"
   ]
  },
  {
   "cell_type": "code",
   "execution_count": 13,
   "id": "068ed9b8",
   "metadata": {},
   "outputs": [],
   "source": [
    "import cv2\n",
    "import numpy as np"
   ]
  },
  {
   "cell_type": "code",
   "execution_count": 8,
   "id": "d1913493",
   "metadata": {},
   "outputs": [],
   "source": [
    "random_image_names_m = random.sample(image_names_m, 10)"
   ]
  },
  {
   "cell_type": "code",
   "execution_count": 9,
   "id": "0808ae4a",
   "metadata": {},
   "outputs": [],
   "source": [
    "blur_radius=3\n",
    "def median_blur(image_path,blur_radius):\n",
    "    image_m=Image.open(image_path)\n",
    "    image_v=cv2.medianBlur(np.asarray(image_m),blur_radius)\n",
    "    cv2.imshow('Median Blurring',image_v)\n",
    "    cv2.waitKey(0)"
   ]
  },
  {
   "cell_type": "code",
   "execution_count": 14,
   "id": "b31fb330",
   "metadata": {},
   "outputs": [],
   "source": [
    "for image_name in random_image_names_m:\n",
    "    image = zip_folder.open(image_name)\n",
    "    median_blur(image,3)"
   ]
  },
  {
   "cell_type": "code",
   "execution_count": null,
   "id": "b7714496",
   "metadata": {},
   "outputs": [],
   "source": []
  },
  {
   "cell_type": "code",
   "execution_count": null,
   "id": "f08f92a0",
   "metadata": {},
   "outputs": [],
   "source": []
  },
  {
   "cell_type": "markdown",
   "id": "8c6714be",
   "metadata": {},
   "source": [
    "# Erosion:\n",
    "This filter erodes away the boundaries of objects in the image, which can be useful for removing small details or for isolating larger structures in the image."
   ]
  },
  {
   "cell_type": "code",
   "execution_count": 1,
   "id": "028db0fa",
   "metadata": {},
   "outputs": [],
   "source": [
    "import random\n",
    "import zipfile\n",
    "from PIL import Image\n",
    "import cv2\n",
    "import numpy as np"
   ]
  },
  {
   "cell_type": "code",
   "execution_count": 3,
   "id": "17afc452",
   "metadata": {},
   "outputs": [],
   "source": [
    "zip_folder_e = zipfile.ZipFile('/Users/nitesh/Desktop/Softsensor.AI Assignment/softsensor_aidsprojectassignment/X- ray image.zip', 'r')\n",
    "image_names_e = zip_folder_e.namelist()"
   ]
  },
  {
   "cell_type": "code",
   "execution_count": 4,
   "id": "b644e2f4",
   "metadata": {},
   "outputs": [],
   "source": [
    "def Erosion_b(image_path, kernel, iteration):\n",
    "        image_e=Image.open(image_path)\n",
    "        img_erosion = cv2.erode(np.asarray(image_e), kernel, iteration)\n",
    "        cv2.imshow('Erosion', img_erosion)\n",
    "        cv2.waitKey(0)"
   ]
  },
  {
   "cell_type": "code",
   "execution_count": 6,
   "id": "b6760358",
   "metadata": {},
   "outputs": [],
   "source": [
    "random_image_names = random.sample(image_names_e, 10)"
   ]
  },
  {
   "cell_type": "code",
   "execution_count": null,
   "id": "a2e755ab",
   "metadata": {},
   "outputs": [],
   "source": [
    "#5x5 binary image with a single white pixel at the center\n",
    "kernel = np.ones((5, 5), np.uint8)"
   ]
  },
  {
   "cell_type": "code",
   "execution_count": null,
   "id": "dfc932c7",
   "metadata": {},
   "outputs": [],
   "source": [
    "for image_name in random_image_names:\n",
    "    image = zip_folder_e.open(image_name)\n",
    "    Erosion_b(image,kernel,1)"
   ]
  },
  {
   "cell_type": "code",
   "execution_count": null,
   "id": "08beb47a",
   "metadata": {},
   "outputs": [],
   "source": []
  },
  {
   "cell_type": "code",
   "execution_count": null,
   "id": "76abd600",
   "metadata": {},
   "outputs": [],
   "source": []
  },
  {
   "cell_type": "markdown",
   "id": "aafad165",
   "metadata": {},
   "source": [
    "# Dilation:\n",
    "This filter dilates the boundaries of objects in the image, which can be useful for joining broken lines or for highlighting structures in the image"
   ]
  },
  {
   "cell_type": "code",
   "execution_count": 2,
   "id": "1566186f",
   "metadata": {},
   "outputs": [],
   "source": [
    "import random\n",
    "import zipfile\n",
    "from PIL import Image\n",
    "import cv2\n",
    "import numpy as np"
   ]
  },
  {
   "cell_type": "code",
   "execution_count": 3,
   "id": "2962106b",
   "metadata": {},
   "outputs": [],
   "source": [
    "zip_folder = zipfile.ZipFile('/Users/nitesh/Desktop/Softsensor.AI Assignment/softsensor_aidsprojectassignment/X- ray image.zip', 'r')\n",
    "image_names_d = zip_folder.namelist()"
   ]
  },
  {
   "cell_type": "code",
   "execution_count": 4,
   "id": "28245689",
   "metadata": {},
   "outputs": [],
   "source": [
    "def diltion_b(image_path, kernel, iteration):\n",
    "        image_m=Image.open(image_path)\n",
    "        img_diltion = cv2.dilate(np.asarray(image_m), kernel, iteration)\n",
    "        cv2.imshow('Dilation', img_diltion)\n",
    "        cv2.waitKey(0)"
   ]
  },
  {
   "cell_type": "code",
   "execution_count": 5,
   "id": "efcaa208",
   "metadata": {},
   "outputs": [],
   "source": [
    "random_image_names_d = random.sample(image_names_d, 10)"
   ]
  },
  {
   "cell_type": "code",
   "execution_count": 6,
   "id": "597f800c",
   "metadata": {},
   "outputs": [],
   "source": [
    "kernel = np.ones((5, 5), np.uint8)"
   ]
  },
  {
   "cell_type": "code",
   "execution_count": null,
   "id": "22ab77d3",
   "metadata": {},
   "outputs": [],
   "source": [
    "for image_name in random_image_names_d:\n",
    "    image = zip_folder.open(image_name)\n",
    "    diltion_b(image,kernel,1)"
   ]
  },
  {
   "cell_type": "code",
   "execution_count": null,
   "id": "20f0ae8e",
   "metadata": {},
   "outputs": [],
   "source": []
  },
  {
   "cell_type": "code",
   "execution_count": null,
   "id": "8cacb4d8",
   "metadata": {},
   "outputs": [],
   "source": []
  },
  {
   "cell_type": "markdown",
   "id": "d627f1bf",
   "metadata": {},
   "source": [
    "# Thresholding:\n",
    "This filter converts the image to black and white by setting a threshold value, which can be useful for isolating objects in the image based on their intensity values."
   ]
  },
  {
   "cell_type": "code",
   "execution_count": 1,
   "id": "0114e7ee",
   "metadata": {},
   "outputs": [],
   "source": [
    "import random\n",
    "import zipfile\n",
    "from PIL import Image\n",
    "import cv2\n",
    "import numpy as np"
   ]
  },
  {
   "cell_type": "code",
   "execution_count": 2,
   "id": "d0e43263",
   "metadata": {},
   "outputs": [],
   "source": [
    "zip_folder = zipfile.ZipFile('/Users/nitesh/Desktop/Softsensor.AI Assignment/softsensor_aidsprojectassignment/X- ray image.zip', 'r')\n",
    "image_names_t = zip_folder.namelist()"
   ]
  },
  {
   "cell_type": "code",
   "execution_count": 3,
   "id": "5a0e0e00",
   "metadata": {},
   "outputs": [],
   "source": [
    "random_image_names_t = random.sample(image_names_t, 10)"
   ]
  },
  {
   "cell_type": "code",
   "execution_count": 4,
   "id": "f5eb7f0d",
   "metadata": {},
   "outputs": [],
   "source": [
    "def threshold_b(image_path, threshold_value):\n",
    "    image_m=Image.open(image_path)\n",
    "    threshold_image = cv2.threshold(np.asarray(image_m), threshold_value, 255, cv2.THRESH_BINARY)[1]\n",
    "    cv2.imwrite('thresholded_image.jpg', threshold_image)\n",
    "    cv2.imshow('Thresholded Image', threshold_image)\n",
    "    cv2.waitKey(0)\n",
    "    cv2.destroyAllWindows()"
   ]
  },
  {
   "cell_type": "code",
   "execution_count": 5,
   "id": "eee11b07",
   "metadata": {},
   "outputs": [],
   "source": [
    "threshold_value = 128"
   ]
  },
  {
   "cell_type": "code",
   "execution_count": null,
   "id": "8f02fdba",
   "metadata": {},
   "outputs": [],
   "source": [
    "for image_name in random_image_names_t:\n",
    "    image = zip_folder.open(image_name)\n",
    "    threshold_b(image,threshold_value)"
   ]
  },
  {
   "cell_type": "code",
   "execution_count": null,
   "id": "81821dd0",
   "metadata": {},
   "outputs": [],
   "source": []
  },
  {
   "cell_type": "code",
   "execution_count": null,
   "id": "41a554dd",
   "metadata": {},
   "outputs": [],
   "source": []
  },
  {
   "cell_type": "markdown",
   "id": "189ded7d",
   "metadata": {},
   "source": [
    "# Which filter will you prefer for the detect and visualization of catheters and lines in X-ray images and why?"
   ]
  },
  {
   "cell_type": "markdown",
   "id": "44d98b64",
   "metadata": {},
   "source": [
    "If I were trying to detect and visualize catheters and lines in X-ray images, I would probably prefer to use a thresholding filter. This is because thresholding can help to isolate the catheters and lines based on their intensity values, making them easier to see in the image."
   ]
  },
  {
   "cell_type": "code",
   "execution_count": null,
   "id": "f438518f",
   "metadata": {},
   "outputs": [],
   "source": []
  },
  {
   "cell_type": "markdown",
   "id": "8f035ae7",
   "metadata": {},
   "source": [
    "# How can deep learning help to detect presence of catheters and lines in images and which model you prefer?( coding is not required)\n"
   ]
  },
  {
   "cell_type": "markdown",
   "id": "79dcafb4",
   "metadata": {},
   "source": [
    "To detect the presence of catheters and lines in images using deep learning, I could train a convolutional neural network (CNN) to classify images as containing catheters and lines or not. I could use a model like VGG, ResNet, or InceptionNet as a starting point, and then train it on a large dataset of X-ray images with and without catheters and lines. Once the model is trained, I can use it to predict whether a given X-ray image contains catheters and lines or not."
   ]
  },
  {
   "cell_type": "code",
   "execution_count": null,
   "id": "d8f70f8a",
   "metadata": {},
   "outputs": [],
   "source": []
  }
 ],
 "metadata": {
  "kernelspec": {
   "display_name": "Python 3 (ipykernel)",
   "language": "python",
   "name": "python3"
  },
  "language_info": {
   "codemirror_mode": {
    "name": "ipython",
    "version": 3
   },
   "file_extension": ".py",
   "mimetype": "text/x-python",
   "name": "python",
   "nbconvert_exporter": "python",
   "pygments_lexer": "ipython3",
   "version": "3.7.7"
  }
 },
 "nbformat": 4,
 "nbformat_minor": 5
}
